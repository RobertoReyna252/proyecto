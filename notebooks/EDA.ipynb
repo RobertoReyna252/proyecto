{
 "cells": [
  {
   "cell_type": "code",
   "execution_count": 1,
   "metadata": {},
   "outputs": [
    {
     "name": "stderr",
     "output_type": "stream",
     "text": [
      "2024-02-29 00:46:38.300 \n",
      "  \u001b[33m\u001b[1mWarning:\u001b[0m to view this Streamlit app on a browser, run it with the following\n",
      "  command:\n",
      "\n",
      "    streamlit run /Users/andrureynarios/anaconda3/lib/python3.11/site-packages/ipykernel_launcher.py [ARGUMENTS]\n"
     ]
    }
   ],
   "source": [
    "import pandas as pd\n",
    "import plotly.express as px\n",
    "import streamlit as st\n",
    "\n",
    "# Leer los datos\n",
    "car_data = pd.read_csv('../vehicles_us.csv')\n",
    "\n",
    "# Mostrar un encabezado con texto\n",
    "st.title('Análisis de Datos de Vehículos en EE. UU.')\n",
    "st.header('Descripción general de los datos')\n",
    "st.write('Este análisis proporciona una descripción general de los datos de vehículos en EE. UU.')\n",
    "\n",
    "# Mostrar un histograma\n",
    "st.header('Histograma del kilometraje de los vehículos')\n",
    "hist_fig = px.histogram(car_data, x=\"odometer\", title=\"Histograma del kilometraje de los vehículos\")\n",
    "st.plotly_chart(hist_fig, use_container_width=True)\n",
    "\n",
    "# Mostrar un gráfico de dispersión\n",
    "st.header('Gráfico de dispersión del precio vs. año del modelo')\n",
    "scatter_fig = px.scatter(car_data, x=\"model_year\", y=\"price\", title=\"Precio vs. Año del modelo\")\n",
    "st.plotly_chart(scatter_fig, use_container_width=True)\n",
    "\n",
    "# Agregar un botón para mostrar información adicional\n",
    "if st.checkbox('Mostrar información adicional'):\n",
    "    st.write('Este es un ejemplo de información adicional que se muestra al hacer clic en una casilla de verificación.')\n"
   ]
  },
  {
   "cell_type": "code",
   "execution_count": null,
   "metadata": {},
   "outputs": [],
   "source": []
  }
 ],
 "metadata": {
  "kernelspec": {
   "display_name": "Python 3 (ipykernel)",
   "language": "python",
   "name": "python3"
  },
  "language_info": {
   "codemirror_mode": {
    "name": "ipython",
    "version": 3
   },
   "file_extension": ".py",
   "mimetype": "text/x-python",
   "name": "python",
   "nbconvert_exporter": "python",
   "pygments_lexer": "ipython3",
   "version": "3.11.5"
  }
 },
 "nbformat": 4,
 "nbformat_minor": 4
}
